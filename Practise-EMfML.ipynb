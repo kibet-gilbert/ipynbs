{
 "cells": [
  {
   "cell_type": "code",
   "execution_count": 1,
   "metadata": {},
   "outputs": [],
   "source": [
    "def f(x):\n",
    "    return x**2 + 2\n"
   ]
  },
  {
   "cell_type": "code",
   "execution_count": 2,
   "metadata": {},
   "outputs": [
    {
     "data": {
      "text/plain": [
       "11"
      ]
     },
     "execution_count": 2,
     "metadata": {},
     "output_type": "execute_result"
    }
   ],
   "source": [
    "f(3)"
   ]
  },
  {
   "cell_type": "markdown",
   "metadata": {},
   "source": [
    "\\begin{equation} y = f(x) + 5 \\end{equation} "
   ]
  },
  {
   "cell_type": "code",
   "execution_count": 3,
   "metadata": {},
   "outputs": [
    {
     "name": "stdout",
     "output_type": "stream",
     "text": [
      "43\n"
     ]
    }
   ],
   "source": [
    "x=6\n",
    "y = f(x) + 5\n",
    "\n",
    "print(y)"
   ]
  },
  {
   "cell_type": "code",
   "execution_count": 6,
   "metadata": {},
   "outputs": [
    {
     "data": {
      "text/plain": [
       "array([-100,  -99,  -98,  -97,  -96,  -95,  -94,  -93,  -92,  -91,  -90,\n",
       "        -89,  -88,  -87,  -86,  -85,  -84,  -83,  -82,  -81,  -80,  -79,\n",
       "        -78,  -77,  -76,  -75,  -74,  -73,  -72,  -71,  -70,  -69,  -68,\n",
       "        -67,  -66,  -65,  -64,  -63,  -62,  -61,  -60,  -59,  -58,  -57,\n",
       "        -56,  -55,  -54,  -53,  -52,  -51,  -50,  -49,  -48,  -47,  -46,\n",
       "        -45,  -44,  -43,  -42,  -41,  -40,  -39,  -38,  -37,  -36,  -35,\n",
       "        -34,  -33,  -32,  -31,  -30,  -29,  -28,  -27,  -26,  -25,  -24,\n",
       "        -23,  -22,  -21,  -20,  -19,  -18,  -17,  -16,  -15,  -14,  -13,\n",
       "        -12,  -11,  -10,   -9,   -8,   -7,   -6,   -5,   -4,   -3,   -2,\n",
       "         -1,    0,    1,    2,    3,    4,    5,    6,    7,    8,    9,\n",
       "         10,   11,   12,   13,   14,   15,   16,   17,   18,   19,   20,\n",
       "         21,   22,   23,   24,   25,   26,   27,   28,   29,   30,   31,\n",
       "         32,   33,   34,   35,   36,   37,   38,   39,   40,   41,   42,\n",
       "         43,   44,   45,   46,   47,   48,   49,   50,   51,   52,   53,\n",
       "         54,   55,   56,   57,   58,   59,   60,   61,   62,   63,   64,\n",
       "         65,   66,   67,   68,   69,   70,   71,   72,   73,   74,   75,\n",
       "         76,   77,   78,   79,   80,   81,   82,   83,   84,   85,   86,\n",
       "         87,   88,   89,   90,   91,   92,   93,   94,   95,   96,   97,\n",
       "         98,   99])"
      ]
     },
     "execution_count": 6,
     "metadata": {},
     "output_type": "execute_result"
    }
   ],
   "source": [
    "import numpy as np\n",
    "\n",
    "x = np.array(range(-100, 100))\n",
    "\n",
    "x"
   ]
  },
  {
   "cell_type": "code",
   "execution_count": 7,
   "metadata": {},
   "outputs": [
    {
     "data": {
      "text/plain": [
       "4"
      ]
     },
     "execution_count": 7,
     "metadata": {},
     "output_type": "execute_result"
    }
   ],
   "source": [
    "def u(x):\n",
    "    return x + 1\n",
    "\n",
    "u(3)"
   ]
  },
  {
   "cell_type": "code",
   "execution_count": 1,
   "metadata": {},
   "outputs": [
    {
     "data": {
      "image/png": "[encoded data removed]",
      "text/plain": [
       "<Figure size 432x288 with 1 Axes>"
      ]
     },
     "metadata": {
      "needs_background": "light"
     },
     "output_type": "display_data"
    }
   ],
   "source": [
    "%matplotlib inline\n",
    "\n",
    "def k(x):\n",
    "    if x == 0:\n",
    "        return 0\n",
    "    elif x ==100:\n",
    "        return 1\n",
    "    \n",
    "#Plot the function\n",
    "from matplotlib import pyplot as plt\n",
    "\n",
    "#Create an array of x\n",
    "x = range(-100,101)\n",
    "\n",
    "#Compute y fro the x array\n",
    "y = [k(a) for a in x ]\n",
    "\n",
    "# Set the plot envirnment\n",
    "plt.xlabel('x' )\n",
    "plt.ylabel('k(x)')\n",
    "plt.grid()\n",
    "plt.title(\"Func plot\")\n",
    "\n",
    "# Actual plot\n",
    "\n",
    "plt.scatter(x,y, color = 'blue')\n",
    "\n",
    "plt.show()"
   ]
  },
  {
   "cell_type": "code",
   "execution_count": 25,
   "metadata": {},
   "outputs": [
    {
     "data": {
      "image/png": "[encoded data removed]",
      "text/plain": [
       "<Figure size 432x288 with 1 Axes>"
      ]
     },
     "metadata": {
      "needs_background": "light"
     },
     "output_type": "display_data"
    }
   ],
   "source": [
    "%matplotlib inline\n",
    "\n",
    "# Define the function\n",
    "def p(x):\n",
    "    #if x >= 1:\n",
    "        return x**2 + 1\n",
    "    \n",
    "# Plotting\n",
    "from matplotlib import pyplot as plt\n",
    "\n",
    "# Create an X array\n",
    "x = range(-100, 101)\n",
    "\n",
    "# Compute Y from X using the func\n",
    "y = [p(a) for a in x]\n",
    "\n",
    "# Create the plot env\n",
    "plt.xlabel('X')\n",
    "plt.ylabel('p(x)')\n",
    "plt.title('A Quadratic Func Plot')\n",
    "plt.grid()\n",
    "\n",
    "# Actual plotting\n",
    "plt.plot(x, y, color = 'cyan')\n",
    "\n",
    "plt.plot(-100, y[0], color='orange', marker='o', markerfacecolor='blue')\n",
    "plt.plot(101, y[-1], color='orange', marker='o', markerfacecolor='blue')\n",
    "\n",
    "plt.show()"
   ]
  },
  {
   "cell_type": "markdown",
   "metadata": {},
   "source": [
    "# Module II\n",
    "\n",
    "## Rate of change"
   ]
  },
  {
   "cell_type": "code",
   "execution_count": 16,
   "metadata": {},
   "outputs": [
    {
     "data": {
      "image/png": "[encoded data removed]",
      "text/plain": [
       "<Figure size 432x288 with 1 Axes>"
      ]
     },
     "metadata": {
      "needs_background": "light"
     },
     "output_type": "display_data"
    }
   ],
   "source": [
    "%matplotlib inline\n",
    "# Define a function\n",
    "\n",
    "def q(x):\n",
    "    return 2*x + 1\n",
    "\n",
    "# Plot the function\n",
    "\n",
    "import numpy as np\n",
    "\n",
    "from matplotlib import pyplot as plt\n",
    "\n",
    "# Create an array of x values\n",
    "\n",
    "x = np.array(range(0,11)); x\n",
    "\n",
    "# Create ploting env\n",
    "plt.xlabel('Time(s)')\n",
    "plt.ylabel('Distance(m)')\n",
    "plt.xticks(range(0, 11, 1))\n",
    "plt.yticks(range(0, 21, 1))\n",
    "plt.title('Rate of change plot')\n",
    "plt.grid()\n",
    "\n",
    "# Actual plot of x against q(x)\n",
    "\n",
    "plt.plot(x, q(x), color = 'orange')\n",
    "\n",
    "plt.show()\n",
    "\n",
    "\n"
   ]
  },
  {
   "cell_type": "code",
   "execution_count": 22,
   "metadata": {},
   "outputs": [
    {
     "data": {
      "image/png": "[encoded data removed]",
      "text/plain": [
       "<Figure size 432x288 with 1 Axes>"
      ]
     },
     "metadata": {
      "needs_background": "light"
     },
     "output_type": "display_data"
    }
   ],
   "source": [
    "%matplotlib inline\n",
    "\n",
    "# Define a func\n",
    "def r(x):\n",
    "    return x**2 + x\n",
    "\n",
    "# Plot param\n",
    "import numpy as np\n",
    "from matplotlib import pyplot as plt\n",
    "\n",
    "# Create an array of x\n",
    "x = np.array(range(1,11))\n",
    "\n",
    "# Create an array for the secant line\n",
    "s = np.array([2,8])\n",
    "\n",
    "# Describe plot env\n",
    "plt.xlabel('x')\n",
    "plt.ylabel('r(x)')\n",
    "plt.grid()\n",
    "\n",
    "# Actual plot of the quadratic\n",
    "plt.plot(x, r(x), color = 'orange')\n",
    "\n",
    "# Actual plot of the secant\n",
    "plt.plot(s, r(s), color = 'green')\n",
    "\n",
    "x1 = 2\n",
    "x2 = 8\n",
    "y1 = r(x1)\n",
    "y2 = r(x2)\n",
    "\n",
    "a = (y2 - y1)/(x2-x1)\n",
    "\n",
    "plt.annotate('The ave. speed between ' + str(x1) + ' & ' + str(x2) + ' seconds' + ' is' + str(a) + ' m/s', ((x1+x2)/2, (y1+y2)/2), color = 'blue')\n",
    "\n",
    "plt.show()\n",
    "\n",
    "\n"
   ]
  },
  {
   "cell_type": "markdown",
   "metadata": {},
   "source": [
    "# Introduction to limits"
   ]
  },
  {
   "cell_type": "code",
   "execution_count": 2,
   "metadata": {},
   "outputs": [
    {
     "data": {
      "text/plain": [
       "<matplotlib.collections.PathCollection at 0x7f7e2f36e790>"
      ]
     },
     "execution_count": 2,
     "metadata": {},
     "output_type": "execute_result"
    },
    {
     "data": {
      "image/png": "[encoded data removed]",
      "text/plain": [
       "<Figure size 432x288 with 1 Axes>"
      ]
     },
     "metadata": {
      "needs_background": "light"
     },
     "output_type": "display_data"
    }
   ],
   "source": [
    "%matplotlib inline\n",
    "\n",
    "# Define a func\n",
    "def f(x):\n",
    "    return x**2+x\n",
    "\n",
    "# Import env\n",
    "from matplotlib import pyplot as plt\n",
    "\n",
    "# Def x values\n",
    "x = list(range(0,5))\n",
    "\n",
    "x.append(4.25)\n",
    "x.append(4.5)\n",
    "x.append(4.75)\n",
    "x.append(5)\n",
    "x.append(5.25)\n",
    "x.append(5.5)\n",
    "x.append(5.75)\n",
    "\n",
    "x=x + list(range(6,11))\n",
    "\n",
    "# Def y\n",
    "y=[f(i) for i in x]\n",
    "\n",
    "# Def plot env\n",
    "plt.xlabel('x')\n",
    "plt.ylabel('f(x)')\n",
    "plt.title('Intro to limits')\n",
    "plt.grid()\n",
    "\n",
    "# Plot the func\n",
    "plt.plot(x,y, color='black', marker='o', markeredgecolor='cyan')\n",
    "\n",
    "# Plot when x is 4.25\n",
    "fx=[4.25, 4.5, 5.5, 5.75]; fy1=float(f(fx[0])); fy2=float((f(fx[1]))); fy3=float(f(fx[2])); fy4=float(f(fx[3]))\n",
    "fy=[fy1,fy2,fy3,fy4]\n",
    "plt.plot(fx,fy, marker='o', markerfacecolor='green')\n",
    "\n",
    "# Plot when x is 5\n",
    "gx=5\n",
    "gy=f(gx)\n",
    "plt.plot(gx,gy, marker='^', markeredgecolor='blue', markersize='10')\n",
    "\n",
    "# Plot when x is 4.75, 5.25\n",
    "fpx=[4.75, 5.25]; fpy1=float(f(fpx[0])); fpy2=float((f(fpx[1])))\n",
    "fpy=[fpy1,fpy2]\n",
    "plt.scatter(fpx,fpy, marker='<', edgecolor='red', linewidths=10)\n"
   ]
  },
  {
   "cell_type": "markdown",
   "metadata": {},
   "source": [
    "## Limits and Continuity"
   ]
  },
  {
   "cell_type": "code",
   "execution_count": 9,
   "metadata": {},
   "outputs": [
    {
     "data": {
      "image/png": "[encoded data removed]",
      "text/plain": [
       "<Figure size 432x288 with 1 Axes>"
      ]
     },
     "metadata": {
      "needs_background": "light"
     },
     "output_type": "display_data"
    }
   ],
   "source": [
    "%matplotlib inline\n",
    "\n",
    "# Def a func\n",
    "def g(x):\n",
    "    if x != 0:\n",
    "        return -(12/(2*x))**2\n",
    "    \n",
    "# Plotting pkgs\n",
    "from matplotlib import pyplot as plt\n",
    "\n",
    "# Create arbitrary x values\n",
    "x = range (-20, 21)\n",
    "\n",
    "# Comp y values\n",
    "y = [g(a) for a in x]\n",
    "\n",
    "# Describe plotting env\n",
    "plt.title('Limits & continuity plot')\n",
    "plt.xlabel('x')\n",
    "plt.ylabel('g(x)')\n",
    "plt.grid()\n",
    "\n",
    "# DRaw actual plot\n",
    "plt.plot(x, y, color='purple')\n",
    "plt.show()\n",
    "\n",
    "\n"
   ]
  },
  {
   "cell_type": "code",
   "execution_count": 4,
   "metadata": {},
   "outputs": [
    {
     "data": {
      "image/png": "[encoded data removed]",
      "text/plain": [
       "<Figure size 432x288 with 1 Axes>"
      ]
     },
     "metadata": {
      "needs_background": "light"
     },
     "output_type": "display_data"
    }
   ],
   "source": [
    "# Def a func\n",
    "def g(x):\n",
    "    if x != 0:\n",
    "        return -(12/(2*x))**2\n",
    "    \n",
    "# Plotting pkgs\n",
    "from matplotlib import pyplot as plt\n",
    "\n",
    "# Create arbitrary x values\n",
    "x = range (-20, 21)\n",
    "\n",
    "# Comp y values\n",
    "y = [g(a) for a in x]\n",
    "\n",
    "# Describe plotting env\n",
    "plt.title('Limits & continuity plot')\n",
    "plt.xlabel('x')\n",
    "plt.ylabel('g(x)')\n",
    "plt.grid()\n",
    "\n",
    "# Plot actual plot\n",
    "plt.plot(x, y, color='purple')\n",
    "\n",
    "plt.annotate('O', (0,g(1)), xytext=(-0.7, -37),fontsize=14)\n",
    "\n",
    "\n",
    "plt.show()"
   ]
  },
  {
   "cell_type": "code",
   "execution_count": 15,
   "metadata": {},
   "outputs": [
    {
     "data": {
      "image/png": "[encoded data removed]",
      "text/plain": [
       "<Figure size 432x288 with 1 Axes>"
      ]
     },
     "metadata": {
      "needs_background": "light"
     },
     "output_type": "display_data"
    }
   ],
   "source": [
    "%matplotlib inline\n",
    "\n",
    "#define a function y\n",
    "\n",
    "def f(y):\n",
    "    return y**2-y+3\n",
    "\n",
    "\n",
    "x = range(-5, 6)\n",
    "\n",
    "\n",
    "y = [f(a) for a in x]\n",
    "\n",
    "from matplotlib import pyplot as plt\n",
    "\n",
    "plt.xlabel('x')\n",
    "plt.ylabel('f(y)')\n",
    "plt.grid()\n",
    "\n",
    "plt.plot(x, y, color='red')\n",
    "\n",
    "plt.show()\n"
   ]
  },
  {
   "cell_type": "code",
   "execution_count": 18,
   "metadata": {},
   "outputs": [
    {
     "data": {
      "text/plain": [
       "0"
      ]
     },
     "execution_count": 18,
     "metadata": {},
     "output_type": "execute_result"
    }
   ],
   "source": [
    "4%2"
   ]
  },
  {
   "cell_type": "code",
   "execution_count": 19,
   "metadata": {},
   "outputs": [
    {
     "data": {
      "text/plain": [
       "[1, 3, 5, 7, 9]"
      ]
     },
     "execution_count": 19,
     "metadata": {},
     "output_type": "execute_result"
    }
   ],
   "source": [
    "[n for n in range(10) if n % 2]"
   ]
  },
  {
   "cell_type": "code",
   "execution_count": 26,
   "metadata": {},
   "outputs": [
    {
     "ename": "TypeError",
     "evalue": "'module' object is not callable",
     "output_type": "error",
     "traceback": [
      "\u001b[0;31m---------------------------------------------------------------------------\u001b[0m",
      "\u001b[0;31mTypeError\u001b[0m                                 Traceback (most recent call last)",
      "\u001b[0;32m<ipython-input-26-c9bd6a0a9a72>\u001b[0m in \u001b[0;36m<module>\u001b[0;34m()\u001b[0m\n\u001b[1;32m      1\u001b[0m \u001b[0;31m#import datetime\u001b[0m\u001b[0;34m\u001b[0m\u001b[0;34m\u001b[0m\u001b[0m\n\u001b[1;32m      2\u001b[0m \u001b[0;34m\u001b[0m\u001b[0m\n\u001b[0;32m----> 3\u001b[0;31m \u001b[0mdatetime\u001b[0m\u001b[0;34m(\u001b[0m\u001b[0;36m1970\u001b[0m\u001b[0;34m,\u001b[0m \u001b[0;36m1\u001b[0m\u001b[0;34m,\u001b[0m \u001b[0;36m1\u001b[0m\u001b[0;34m)\u001b[0m\u001b[0;34m.\u001b[0m\u001b[0mstrftime\u001b[0m\u001b[0;34m(\u001b[0m\u001b[0;34m'%Y-%d-%B'\u001b[0m\u001b[0;34m)\u001b[0m\u001b[0;34m\u001b[0m\u001b[0m\n\u001b[0m",
      "\u001b[0;31mTypeError\u001b[0m: 'module' object is not callable"
     ]
    }
   ],
   "source": [
    "#import datetime\n",
    "\n",
    "datetime(1970, 1, 1).strftime('%Y-%d-%B')"
   ]
  },
  {
   "cell_type": "code",
   "execution_count": 30,
   "metadata": {},
   "outputs": [
    {
     "ename": "TypeError",
     "evalue": "my_func() takes exactly 2 arguments (3 given)",
     "output_type": "error",
     "traceback": [
      "\u001b[0;31m---------------------------------------------------------------------------\u001b[0m",
      "\u001b[0;31mTypeError\u001b[0m                                 Traceback (most recent call last)",
      "\u001b[0;32m<ipython-input-30-7b2db4537258>\u001b[0m in \u001b[0;36m<module>\u001b[0;34m()\u001b[0m\n\u001b[1;32m      1\u001b[0m \u001b[0;32mdef\u001b[0m \u001b[0mmy_func\u001b[0m\u001b[0;34m(\u001b[0m\u001b[0mn1\u001b[0m\u001b[0;34m,\u001b[0m \u001b[0mn2\u001b[0m\u001b[0;34m)\u001b[0m\u001b[0;34m:\u001b[0m\u001b[0;34m\u001b[0m\u001b[0m\n\u001b[1;32m      2\u001b[0m     \u001b[0;32mreturn\u001b[0m \u001b[0mn1\u001b[0m \u001b[0;34m+\u001b[0m \u001b[0mn2\u001b[0m\u001b[0;34m\u001b[0m\u001b[0m\n\u001b[0;32m----> 3\u001b[0;31m \u001b[0mmy_func\u001b[0m\u001b[0;34m(\u001b[0m\u001b[0;36m1\u001b[0m\u001b[0;34m,\u001b[0m \u001b[0;36m2\u001b[0m\u001b[0;34m,\u001b[0m \u001b[0;36m3\u001b[0m\u001b[0;34m)\u001b[0m\u001b[0;34m\u001b[0m\u001b[0m\n\u001b[0m",
      "\u001b[0;31mTypeError\u001b[0m: my_func() takes exactly 2 arguments (3 given)"
     ]
    }
   ],
   "source": [
    "def my_func(n1, n2): \n",
    "    return n1 + n2 \n",
    "my_func(1, 2, 3)"
   ]
  },
  {
   "cell_type": "code",
   "execution_count": null,
   "metadata": {},
   "outputs": [],
   "source": []
  }
 ],
 "metadata": {
  "kernelspec": {
   "display_name": "Python [conda env:CODATA-Trieste]",
   "language": "python",
   "name": "conda-env-CODATA-Trieste-py"
  },
  "language_info": {
   "codemirror_mode": {
    "name": "ipython",
    "version": 2
   },
   "file_extension": ".py",
   "mimetype": "text/x-python",
   "name": "python",
   "nbconvert_exporter": "python",
   "pygments_lexer": "ipython2",
   "version": "2.7.15"
  }
 },
 "nbformat": 4,
 "nbformat_minor": 2
}

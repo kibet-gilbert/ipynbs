{
 "cells": [
  {
   "cell_type": "code",
   "execution_count": 18,
   "metadata": {},
   "outputs": [
    {
     "name": "stdin",
     "output_type": "stream",
     "text": [
      "The input protein is:  XXX\n"
     ]
    },
    {
     "name": "stdout",
     "output_type": "stream",
     "text": [
      "The letter X has been detected at position 0 as a non-aa and removed!\n",
      "The letter X has been detected at position 1 as a non-aa and removed!\n",
      "The letter X has been detected at position 2 as a non-aa and removed!\n",
      "The supplied sequence was not a protein sequence!\n"
     ]
    }
   ],
   "source": [
    "# This script is meant to take in a protein sequence with none protein letters and return a corrected protein sequence\n",
    "\n",
    "# We will read in the seq from a file stored somewhere in the computer and specify that it is a string\n",
    "\n",
    "\n",
    "def prot_corr(p):\n",
    "    p = input('The input protein is: ')\n",
    "\n",
    "       \n",
    "# We will initialise the corrected protein as an empty string\n",
    "    corr_protein = ' '\n",
    "\n",
    "# Initialise a count\n",
    "    count = 0\n",
    "\n",
    "# We create a for loop test to iterate through the entire length of the input protein sequence\n",
    "    for i in range(len(p)):\n",
    "\n",
    "\t# Store the amino acid alphabets in a variable\n",
    "        aa = 'ACDEFGHIKLMNPQRSTVWY'\n",
    "\n",
    "\t# Create a boolean test to check presence of alphabet in the 20 amino alphabets\n",
    "        if p[i] not in aa:\n",
    "\n",
    "\t\t# Let's print out the none-aa alphabet removed and its position\n",
    "            print('The letter %s has been detected at position %d as a non-aa and removed!' % (p[i], i))\n",
    "\n",
    "\t\t# Changing count to capture detected none-aa\n",
    "            count += 1\n",
    "\n",
    "\t\t# To prevent the loop from stoping when test results is false\n",
    "            continue\n",
    "\n",
    "\t# We store the corrected seq by extending corr_protein at each iteration\n",
    "        corr_protein += p[i]\n",
    "\n",
    "# To check if the entire seq is not a protein seq we use another if test\n",
    "    if count == len(p):\n",
    "        print('The supplied sequence was not a protein sequence!')\n",
    "\n",
    "# To check whether entire seq given was a true protein seq\n",
    "    if (len(corr_protein)-1) == (len(p)):\n",
    "        print('The supplied sequence was entirely a protein sequence!')\n",
    "\n",
    "# Put a control so that only a corrected or correct input seq is printed as output and not a fully non-protein seq\n",
    "    if len(corr_protein) > 1:\n",
    "\n",
    "\t# When the for loop has fully cycled, we ask that the corrected protein sequence be printed out in full\n",
    "        print('The corrected/output protein sequence is: %s' % corr_protein)\n",
    "\n",
    "\t# Print out the number of deleted alphabets\n",
    "        print('A total of %d alphabets have been deleted from the input sequence' % count)\n",
    "\n",
    "        \n",
    "prot_corr(p)"
   ]
  }
 ],
 "metadata": {
  "kernelspec": {
   "display_name": "Python 3",
   "language": "python",
   "name": "python3"
  },
  "language_info": {
   "codemirror_mode": {
    "name": "ipython",
    "version": 3
   },
   "file_extension": ".py",
   "mimetype": "text/x-python",
   "name": "python",
   "nbconvert_exporter": "python",
   "pygments_lexer": "ipython3",
   "version": "3.7.3"
  }
 },
 "nbformat": 4,
 "nbformat_minor": 4
}

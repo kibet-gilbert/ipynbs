{
 "cells": [
  {
   "cell_type": "code",
   "execution_count": 70,
   "metadata": {},
   "outputs": [
    {
     "data": {
      "text/plain": [
       "<matplotlib.axes._subplots.AxesSubplot at 0x7effcc182630>"
      ]
     },
     "execution_count": 70,
     "metadata": {},
     "output_type": "execute_result"
    },
    {
     "data": {
      "image/png": "[encoded data removed]",
      "text/plain": [
       "<Figure size 432x288 with 1 Axes>"
      ]
     },
     "metadata": {
      "needs_background": "light"
     },
     "output_type": "display_data"
    }
   ],
   "source": [
    "import pandas as pd\n",
    "import numpy as np\n",
    "# Create df\n",
    "df = pd.DataFrame({'Animal':['Sheep', 'Cow', 'Goat', 'Pig', 'Giraffe', 'Unkown'], 'Composition':[49., 29., 8., 2., 1., 1.], \\\n",
    "                                'Proportion (%)':['54.4%', '32.2%', '8.9%', '2.2%', '1.1%', '1.1%']})\n",
    "\n",
    "df.plot()\n",
    "# Display df\n",
    "#cols_ = list(df.columns.values)\n",
    "#for col in list(df.columns.values):\n",
    "#    plot = df.iloc(str(col)).plot.bar(figsize=(10,10))\n",
    "\n",
    "#    plot\n",
    "#cols_\n",
    "#cl = c()\n",
    "#for cl in cols_:\n",
    "    #plot = df[cols_[1]].plot.bar()\n",
    "    \n",
    "    #plot\n",
    "    \n",
    "#cl\n",
    "    #print(cl)\n",
    "\n",
    "#type(cols_[0])\n",
    "#type(naivasha_covert)\n",
    "#type(naivasha_covert.index)"
   ]
  },
  {
   "cell_type": "code",
   "execution_count": null,
   "metadata": {},
   "outputs": [],
   "source": [
    "df = pd.DataFrame({'Animal':['Sheep', 'Cow', 'Goat', 'Pig', 'Giraffe', 'Unkown'], 'Composition':[49., 29., 8., 2., 1., 1.], \\\n",
    "                                'Proportion (%)':['54.4%', '32.2%', '8.9%', '2.2%', '1.1%', '1.1%']})\n",
    "\n",
    "for col in list(df.columns.values):\n",
    "            if isinstance(df.loc[(str(col))], pd.Series):\n",
    "                print('Hurray!')\n",
    "                \n",
    "            else:\n",
    "                print('kuff!')\n",
    "\n",
    "\n",
    "def df_snap(df):\n",
    "    numCols = 3 # set number of cols\n",
    "    #df = input('Enter abolute path of a dataframe: ') # Ask user to input a data frame\n",
    "    # Importing the necessary packages\n",
    "    import pandas as pd\n",
    "    import matplotlib.pyplot as plt\n",
    "#    while numCols < 0 <= 3:\n",
    "    if isinstance(df, pd.DataFrame):\n",
    "        \n",
    "        for col in list(df.columns.values):\n",
    "            if isinstance(df.loc[(str(col))], pd.Series):\n",
    "                print('Hurray!')\n",
    "#                plot = df.loc[(str(col))].plot.bar(figsize=(10,10))\n",
    "#                plot\n",
    "#                    numCols-=1\n",
    "#                    plot # Display the plot\n",
    "#                    print('This is a visual summary of ' + col + 'columns')\n",
    "                    \n",
    "            else:\n",
    "                print('Column is not of type pd.Series')\n",
    "#            continue\n",
    "                \n",
    "    else:\n",
    "            print('The input given may have the following problems: \\n Is not a pandas dataFrame or \\n The absolute path to the file is incrorrect or \\n File missing')\n",
    "                \n",
    "    \n",
    "df_snap(df)\n",
    "        "
   ]
  },
  {
   "cell_type": "code",
   "execution_count": 95,
   "metadata": {},
   "outputs": [
    {
     "name": "stdout",
     "output_type": "stream",
     "text": [
      "Animal\n",
      "Composition\n",
      "Proportion (%)\n"
     ]
    }
   ],
   "source": [
    "df = pd.DataFrame({'Animal':['Sheep', 'Cow', 'Goat', 'Pig', 'Giraffe', 'Unkown'], 'Composition':[49., 29., 8., 2., 1., 1.], \\\n",
    "                                'Proportion (%)':['54.4%', '32.2%', '8.9%', '2.2%', '1.1%', '1.1%']})\n",
    "\n",
    "for col in list(df.columns.values):\n",
    "            #if isinstance(df.iloc[(str(col))], pd.Series):\n",
    "                #print('Hurray!')\n",
    "        print(col)          \n",
    "            #else:\n",
    "                #print('kuff!')\n",
    "                #print(col)\n",
    "        type(col)\n"
   ]
  }
 ],
 "metadata": {
  "kernelspec": {
   "display_name": "Python 3",
   "language": "python",
   "name": "python3"
  },
  "language_info": {
   "codemirror_mode": {
    "name": "ipython",
    "version": 3
   },
   "file_extension": ".py",
   "mimetype": "text/x-python",
   "name": "python",
   "nbconvert_exporter": "python",
   "pygments_lexer": "ipython3",
   "version": "3.7.3"
  }
 },
 "nbformat": 4,
 "nbformat_minor": 4
}

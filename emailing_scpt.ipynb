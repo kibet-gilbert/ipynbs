{
 "cells": [
  {
   "cell_type": "code",
   "execution_count": 26,
   "metadata": {},
   "outputs": [],
   "source": [
    "import os, smtplib\n",
    "from email.message import EmailMessage\n",
    "\n",
    "EMAIL = os.environ.get('EMAIL_ADD')\n",
    "PASSWORD = os.environ.get('EMAIL_PASS')\n",
    "lines = open('.../cc@home/contact_infoII.txt', 'r+')\n",
    "for line in lines:\n",
    "    name = line.split(',')[0]\n",
    "    email = line.split(',')[1]\n",
    "    try:\n",
    "        msg = EmailMessage()\n",
    "        msg['Subject'] = '#CarpentryConHome Session Feedback'\n",
    "        msg['From'] = EMAIL\n",
    "        msg['To'] = email\n",
    "        msg.set_content('''\n",
    "        Dear {},\n",
    "\n",
    "        Thank you for participating in week one sessions of the #CarpentryConHome (https://twitter.com/search?q=%23CarpentryConHome&src=typed_query). As is custom, we would love to listen to you through your feedback for the sessions you attended. Kindly, advance the Carpentries cause by taking a few minutes completing the feedback form (https://carpentries.typeform.com/to/K8dXnKHL).\n",
    "\n",
    "        We hope to reconnect with you in subsequent sessions for the remaining weeks; you may bookmark the schedule (https://2020.carpentrycon.org/schedule/).\n",
    "\n",
    "        Best regards,\n",
    "        Ouso\n",
    "        On behalf of the CarpentryConHome Taskforce.\n",
    "        '''.format(name))\n",
    "        msg.add_alternative('''\\\n",
    "        <html>\n",
    "           <head>\n",
    "              <p>Dear {},</p>\n",
    "           </head>\n",
    "           <body>\n",
    "              <p>Thank you for participating in week one sessions of the <a href=\"https://twitter.com/search?q=%23CarpentryConHome&src=typed_query\">#CarpentryConHome</a>. As is custom, we would love to listen to you through your feedback for the sessions you attended. Kindly, advance the Carpentries cause by taking a few minutes completing the feedback <a href=\"https://carpentries.typeform.com/to/K8dXnKHL\">form</a>.<br><br>\n",
    "                We hope to reconnect with you in subsequent sessions for the remaining weeks; you bookmark the <a href=\"https://2020.carpentrycon.org/schedule/\">schedule</a>.<br><br>Best regards,<br>Ouso<br>On behalf of the CarpentryConHome Taskforce.\n",
    "                </p>\n",
    "           </body>\n",
    "        </html>'''.format(name), subtype='html')\n",
    "        with smtplib.SMTP_SSL('smtp.gmail.com', 465) as smtp:\n",
    "            smtp.login(EMAIL, PASSWORD)\n",
    "            smtp.send_message(msg)\n",
    "        print('An email has been sent to {} at: {}!'.format(name, email))\n",
    "    except: print('Failed to send email to {}!!!'.format(name))\n",
    "\n"
   ]
  },
  {
   "cell_type": "code",
   "execution_count": null,
   "metadata": {},
   "outputs": [],
   "source": []
  }
 ],
 "metadata": {
  "kernelspec": {
   "display_name": "Python 3",
   "language": "python",
   "name": "python3"
  },
  "language_info": {
   "codemirror_mode": {
    "name": "ipython",
    "version": 3
   },
   "file_extension": ".py",
   "mimetype": "text/x-python",
   "name": "python",
   "nbconvert_exporter": "python",
   "pygments_lexer": "ipython3",
   "version": "3.7.3"
  }
 },
 "nbformat": 4,
 "nbformat_minor": 4
}
